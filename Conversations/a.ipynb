{
 "cells": [
  {
   "cell_type": "code",
   "execution_count": 1,
   "metadata": {},
   "outputs": [],
   "source": [
    "import json"
   ]
  },
  {
   "cell_type": "code",
   "execution_count": null,
   "metadata": {},
   "outputs": [],
   "source": [
    "\"../Conversations/vCon/abcdef12-3456-7890-abcd-ef1234567890.vcon.json\"\n",
    "\"../Conversations/vCon/572f502f-8b34-48b6-bb87-d8d75d42c773.vcon.json\""
   ]
  },
  {
   "cell_type": "code",
   "execution_count": 29,
   "metadata": {},
   "outputs": [
    {
     "data": {
      "text/plain": [
       "['572f502f-8b34-48b6-bb87-d8d75d42c773.vcon.json']"
      ]
     },
     "execution_count": 29,
     "metadata": {},
     "output_type": "execute_result"
    }
   ],
   "source": [
    "import os\n",
    "[i for i in os.listdir('./vCon/') if i == '572f502f-8b34-48b6-bb87-d8d75d42c773.vcon.json']"
   ]
  },
  {
   "cell_type": "code",
   "execution_count": 39,
   "metadata": {},
   "outputs": [
    {
     "data": {
      "text/plain": [
       "'../../../Conversations/vCon/3dcbbec6-d60c-47c1-a321-14a468a54468.vcon.json'"
      ]
     },
     "execution_count": 39,
     "metadata": {},
     "output_type": "execute_result"
    }
   ],
   "source": [
    "b = './vCon/3dcbbec6-d60c-47c1-a321-14a468a54468.vcon.json'\n",
    "\"../../../Conversations/vCon/3dcbbec6-d60c-47c1-a321-14a468a54468.vcon.json\""
   ]
  },
  {
   "cell_type": "code",
   "execution_count": 40,
   "metadata": {},
   "outputs": [],
   "source": [
    "with open(b, 'r') as f:\n",
    "    data = json.load(f)\n"
   ]
  },
  {
   "cell_type": "code",
   "execution_count": 41,
   "metadata": {},
   "outputs": [
    {
     "data": {
      "text/plain": [
       "[{'type': 'transcript',\n",
       "  'dialog': 0,\n",
       "  'vendor': 'openai',\n",
       "  'encoding': 'none',\n",
       "  'body': [{'speaker': 'Agent',\n",
       "    'message': \"Hello, thank you for contacting us. My name is Keith Hayes and I'm with Grand Hotels. May I have your name, please?\"},\n",
       "   {'speaker': 'Customer',\n",
       "    'message': 'Hello, Keith. My name is Rachel Griffin.'},\n",
       "   {'speaker': 'Agent',\n",
       "    'message': 'Nice to meet you, Rachel. Could you please provide me with your date of birth?'},\n",
       "   {'speaker': 'Customer',\n",
       "    'message': 'Sure, I was born on the twenty-fifth of November, nineteen eighty-seven.'},\n",
       "   {'speaker': 'Agent',\n",
       "    'message': 'Thank you, Rachel. And may I also have your current phone number for our records?'},\n",
       "   {'speaker': 'Customer',\n",
       "    'message': 'Of course, my phone number is six seven eight- five five five- six one two three.'},\n",
       "   {'speaker': 'Agent',\n",
       "    'message': 'Great, thank you for sharing that information. How can I assist you today?'},\n",
       "   {'speaker': 'Customer',\n",
       "    'message': \"I'm feeling sad because of the poor food quality during my stay at the hotel.\"},\n",
       "   {'speaker': 'Agent',\n",
       "    'message': \"I'm sorry to hear that, Rachel. We appreciate your feedback and will address this issue. Thank you for bringing it to our attention.\"},\n",
       "   {'speaker': 'Agent',\n",
       "    'message': 'Thank you for your time, Rachel. Have a great day.'},\n",
       "   {'speaker': 'Customer', 'message': 'Thank you, Keith. Goodbye.'}],\n",
       "  'vendor_schema': {'model': 'gpt-3.5-turbo',\n",
       "   'prompt': '\\nGenerate a fake conversation between a customer and an agent.\\nThe agent should introduce themselves, their company and give the customer\\ntheir name. The agent should ask for the customer\\'s name.\\nAs part of the conversation, have the agent ask for two pieces of\\npersonal information.  Spell out numbers. For example, 1000 should be\\nsaid as one zero zero zero, not one thousand. The conversation should be\\nat least 10 lines long and be complete. At the end\\nof the conversation, the agent should thank the customer for their time\\nand end the conversation. Return the conversation formatted \\nlike the following example:\\n\\n{\\'conversation\\': \\n    [\\n    {\\'speaker\\': \\'Agent\\', \\'message\\': \\'xxxxx\\'}, \\n    {\\'speaker\\': \\'Customer\\', \\'message\\': \"xxxxx.\"}, \\n    {\\'speaker\\': \\'Agent\\', \\'message\\': \"xxxxxx\"}\\n    ] \\n}\\n'}}]"
      ]
     },
     "execution_count": 41,
     "metadata": {},
     "output_type": "execute_result"
    }
   ],
   "source": [
    "data['analysis']"
   ]
  },
  {
   "cell_type": "code",
   "execution_count": null,
   "metadata": {},
   "outputs": [],
   "source": []
  }
 ],
 "metadata": {
  "kernelspec": {
   "display_name": "Python 3",
   "language": "python",
   "name": "python3"
  },
  "language_info": {
   "codemirror_mode": {
    "name": "ipython",
    "version": 3
   },
   "file_extension": ".py",
   "mimetype": "text/x-python",
   "name": "python",
   "nbconvert_exporter": "python",
   "pygments_lexer": "ipython3",
   "version": "3.12.6"
  }
 },
 "nbformat": 4,
 "nbformat_minor": 2
}
